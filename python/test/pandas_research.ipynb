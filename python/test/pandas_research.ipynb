{
 "cells": [
  {
   "cell_type": "code",
   "execution_count": 67,
   "outputs": [
    {
     "name": "stdout",
     "output_type": "stream",
     "text": [
      "          A         B         C         D\n",
      "0  1.586727 -0.387546  0.721703 -0.587300\n",
      "1  0.483400  1.183162 -0.908605 -1.307337\n",
      "2  2.147616  0.253612  0.876786 -0.644076\n",
      "3  1.866404  0.318435 -0.242511 -1.767967\n",
      "4 -0.452122 -1.402033 -0.424631 -1.257482\n"
     ]
    }
   ],
   "source": [
    "import pandas as pd\n",
    "import numpy as np\n",
    "df = pd.DataFrame(np.random.randn(10, 4), columns=list('ABCD'))\n",
    "print(df.head())\n"
   ],
   "metadata": {
    "collapsed": false,
    "ExecuteTime": {
     "end_time": "2023-11-30T03:08:48.797261Z",
     "start_time": "2023-11-30T03:08:48.785499Z"
    }
   },
   "id": "2452fb721ea11b6e"
  },
  {
   "cell_type": "code",
   "execution_count": 68,
   "outputs": [
    {
     "data": {
      "text/plain": "          A         B         C         D\n0  1.586727 -0.387546  0.721703 -0.587300\n2  2.147616  0.253612  0.876786 -0.644076\n3  1.866404  0.318435 -0.242511 -1.767967\n4 -0.452122 -1.402033 -0.424631 -1.257482\n7  1.024599 -2.062818  1.825015  1.011666\n9 -0.196190 -1.505561 -0.078221 -1.475748",
      "text/html": "<div>\n<style scoped>\n    .dataframe tbody tr th:only-of-type {\n        vertical-align: middle;\n    }\n\n    .dataframe tbody tr th {\n        vertical-align: top;\n    }\n\n    .dataframe thead th {\n        text-align: right;\n    }\n</style>\n<table border=\"1\" class=\"dataframe\">\n  <thead>\n    <tr style=\"text-align: right;\">\n      <th></th>\n      <th>A</th>\n      <th>B</th>\n      <th>C</th>\n      <th>D</th>\n    </tr>\n  </thead>\n  <tbody>\n    <tr>\n      <th>0</th>\n      <td>1.586727</td>\n      <td>-0.387546</td>\n      <td>0.721703</td>\n      <td>-0.587300</td>\n    </tr>\n    <tr>\n      <th>2</th>\n      <td>2.147616</td>\n      <td>0.253612</td>\n      <td>0.876786</td>\n      <td>-0.644076</td>\n    </tr>\n    <tr>\n      <th>3</th>\n      <td>1.866404</td>\n      <td>0.318435</td>\n      <td>-0.242511</td>\n      <td>-1.767967</td>\n    </tr>\n    <tr>\n      <th>4</th>\n      <td>-0.452122</td>\n      <td>-1.402033</td>\n      <td>-0.424631</td>\n      <td>-1.257482</td>\n    </tr>\n    <tr>\n      <th>7</th>\n      <td>1.024599</td>\n      <td>-2.062818</td>\n      <td>1.825015</td>\n      <td>1.011666</td>\n    </tr>\n    <tr>\n      <th>9</th>\n      <td>-0.196190</td>\n      <td>-1.505561</td>\n      <td>-0.078221</td>\n      <td>-1.475748</td>\n    </tr>\n  </tbody>\n</table>\n</div>"
     },
     "execution_count": 68,
     "metadata": {},
     "output_type": "execute_result"
    }
   ],
   "source": [
    "df.query('A > B')"
   ],
   "metadata": {
    "collapsed": false,
    "ExecuteTime": {
     "end_time": "2023-11-30T03:08:48.798130Z",
     "start_time": "2023-11-30T03:08:48.789843Z"
    }
   },
   "id": "ad617fafc67095ca"
  },
  {
   "cell_type": "code",
   "execution_count": 69,
   "outputs": [
    {
     "data": {
      "text/plain": "          A         B         C         D\n3  1.866404  0.318435 -0.242511 -1.767967",
      "text/html": "<div>\n<style scoped>\n    .dataframe tbody tr th:only-of-type {\n        vertical-align: middle;\n    }\n\n    .dataframe tbody tr th {\n        vertical-align: top;\n    }\n\n    .dataframe thead th {\n        text-align: right;\n    }\n</style>\n<table border=\"1\" class=\"dataframe\">\n  <thead>\n    <tr style=\"text-align: right;\">\n      <th></th>\n      <th>A</th>\n      <th>B</th>\n      <th>C</th>\n      <th>D</th>\n    </tr>\n  </thead>\n  <tbody>\n    <tr>\n      <th>3</th>\n      <td>1.866404</td>\n      <td>0.318435</td>\n      <td>-0.242511</td>\n      <td>-1.767967</td>\n    </tr>\n  </tbody>\n</table>\n</div>"
     },
     "execution_count": 69,
     "metadata": {},
     "output_type": "execute_result"
    }
   ],
   "source": [
    "df.query('A > B & B > C')"
   ],
   "metadata": {
    "collapsed": false,
    "ExecuteTime": {
     "end_time": "2023-11-30T03:08:48.803484Z",
     "start_time": "2023-11-30T03:08:48.799255Z"
    }
   },
   "id": "13e0699d5ed01479"
  },
  {
   "cell_type": "code",
   "execution_count": 70,
   "outputs": [
    {
     "data": {
      "text/plain": "          A         B         C         D\n0  1.586727 -0.387546  0.721703 -0.587300\n1  0.483400  1.183162 -0.908605 -1.307337\n2  2.147616  0.253612  0.876786 -0.644076\n3  1.866404  0.318435 -0.242511 -1.767967\n4 -0.452122 -1.402033 -0.424631 -1.257482\n5 -1.404753 -0.091182 -0.241772 -0.446575\n6 -0.481767  0.642526  0.032675  1.286304\n7  1.024599 -2.062818  1.825015  1.011666\n8 -0.048307  1.547050 -0.707186 -0.396924\n9 -0.196190 -1.505561 -0.078221 -1.475748",
      "text/html": "<div>\n<style scoped>\n    .dataframe tbody tr th:only-of-type {\n        vertical-align: middle;\n    }\n\n    .dataframe tbody tr th {\n        vertical-align: top;\n    }\n\n    .dataframe thead th {\n        text-align: right;\n    }\n</style>\n<table border=\"1\" class=\"dataframe\">\n  <thead>\n    <tr style=\"text-align: right;\">\n      <th></th>\n      <th>A</th>\n      <th>B</th>\n      <th>C</th>\n      <th>D</th>\n    </tr>\n  </thead>\n  <tbody>\n    <tr>\n      <th>0</th>\n      <td>1.586727</td>\n      <td>-0.387546</td>\n      <td>0.721703</td>\n      <td>-0.587300</td>\n    </tr>\n    <tr>\n      <th>1</th>\n      <td>0.483400</td>\n      <td>1.183162</td>\n      <td>-0.908605</td>\n      <td>-1.307337</td>\n    </tr>\n    <tr>\n      <th>2</th>\n      <td>2.147616</td>\n      <td>0.253612</td>\n      <td>0.876786</td>\n      <td>-0.644076</td>\n    </tr>\n    <tr>\n      <th>3</th>\n      <td>1.866404</td>\n      <td>0.318435</td>\n      <td>-0.242511</td>\n      <td>-1.767967</td>\n    </tr>\n    <tr>\n      <th>4</th>\n      <td>-0.452122</td>\n      <td>-1.402033</td>\n      <td>-0.424631</td>\n      <td>-1.257482</td>\n    </tr>\n    <tr>\n      <th>5</th>\n      <td>-1.404753</td>\n      <td>-0.091182</td>\n      <td>-0.241772</td>\n      <td>-0.446575</td>\n    </tr>\n    <tr>\n      <th>6</th>\n      <td>-0.481767</td>\n      <td>0.642526</td>\n      <td>0.032675</td>\n      <td>1.286304</td>\n    </tr>\n    <tr>\n      <th>7</th>\n      <td>1.024599</td>\n      <td>-2.062818</td>\n      <td>1.825015</td>\n      <td>1.011666</td>\n    </tr>\n    <tr>\n      <th>8</th>\n      <td>-0.048307</td>\n      <td>1.547050</td>\n      <td>-0.707186</td>\n      <td>-0.396924</td>\n    </tr>\n    <tr>\n      <th>9</th>\n      <td>-0.196190</td>\n      <td>-1.505561</td>\n      <td>-0.078221</td>\n      <td>-1.475748</td>\n    </tr>\n  </tbody>\n</table>\n</div>"
     },
     "execution_count": 70,
     "metadata": {},
     "output_type": "execute_result"
    }
   ],
   "source": [
    "df.query('A > B | B > C')"
   ],
   "metadata": {
    "collapsed": false,
    "ExecuteTime": {
     "end_time": "2023-11-30T03:08:48.808804Z",
     "start_time": "2023-11-30T03:08:48.805904Z"
    }
   },
   "id": "5ba0b03e20b9353c"
  },
  {
   "cell_type": "code",
   "execution_count": 71,
   "outputs": [
    {
     "data": {
      "text/plain": "                  B         C         D\nA                                      \n-1.404753 -0.091182 -0.241772 -0.446575\n-0.452122 -1.402033 -0.424631 -1.257482\n-0.196190 -1.505561 -0.078221 -1.475748\n 0.483400  1.183162 -0.908605 -1.307337\n 1.024599 -2.062818  1.825015  1.011666\n 1.586727 -0.387546  0.721703 -0.587300\n 1.866404  0.318435 -0.242511 -1.767967\n 2.147616  0.253612  0.876786 -0.644076",
      "text/html": "<div>\n<style scoped>\n    .dataframe tbody tr th:only-of-type {\n        vertical-align: middle;\n    }\n\n    .dataframe tbody tr th {\n        vertical-align: top;\n    }\n\n    .dataframe thead th {\n        text-align: right;\n    }\n</style>\n<table border=\"1\" class=\"dataframe\">\n  <thead>\n    <tr style=\"text-align: right;\">\n      <th></th>\n      <th>B</th>\n      <th>C</th>\n      <th>D</th>\n    </tr>\n    <tr>\n      <th>A</th>\n      <th></th>\n      <th></th>\n      <th></th>\n    </tr>\n  </thead>\n  <tbody>\n    <tr>\n      <th>-1.404753</th>\n      <td>-0.091182</td>\n      <td>-0.241772</td>\n      <td>-0.446575</td>\n    </tr>\n    <tr>\n      <th>-0.452122</th>\n      <td>-1.402033</td>\n      <td>-0.424631</td>\n      <td>-1.257482</td>\n    </tr>\n    <tr>\n      <th>-0.196190</th>\n      <td>-1.505561</td>\n      <td>-0.078221</td>\n      <td>-1.475748</td>\n    </tr>\n    <tr>\n      <th>0.483400</th>\n      <td>1.183162</td>\n      <td>-0.908605</td>\n      <td>-1.307337</td>\n    </tr>\n    <tr>\n      <th>1.024599</th>\n      <td>-2.062818</td>\n      <td>1.825015</td>\n      <td>1.011666</td>\n    </tr>\n    <tr>\n      <th>1.586727</th>\n      <td>-0.387546</td>\n      <td>0.721703</td>\n      <td>-0.587300</td>\n    </tr>\n    <tr>\n      <th>1.866404</th>\n      <td>0.318435</td>\n      <td>-0.242511</td>\n      <td>-1.767967</td>\n    </tr>\n    <tr>\n      <th>2.147616</th>\n      <td>0.253612</td>\n      <td>0.876786</td>\n      <td>-0.644076</td>\n    </tr>\n  </tbody>\n</table>\n</div>"
     },
     "execution_count": 71,
     "metadata": {},
     "output_type": "execute_result"
    }
   ],
   "source": [
    "df.query('A > B & B > C | C > D').groupby('A').sum()"
   ],
   "metadata": {
    "collapsed": false,
    "ExecuteTime": {
     "end_time": "2023-11-30T03:08:48.819053Z",
     "start_time": "2023-11-30T03:08:48.814242Z"
    }
   },
   "id": "6a7bd15bc2b4090e"
  },
  {
   "cell_type": "code",
   "execution_count": 72,
   "outputs": [
    {
     "name": "stdout",
     "output_type": "stream",
     "text": [
      "   a    b  c\n",
      "0  1  2.0  3\n",
      "1  1  NaN  4\n",
      "2  2  1.0  3\n",
      "3  1  2.0  2\n"
     ]
    },
    {
     "data": {
      "text/plain": "     a  c\nb        \n1.0  2  3\n2.0  2  5",
      "text/html": "<div>\n<style scoped>\n    .dataframe tbody tr th:only-of-type {\n        vertical-align: middle;\n    }\n\n    .dataframe tbody tr th {\n        vertical-align: top;\n    }\n\n    .dataframe thead th {\n        text-align: right;\n    }\n</style>\n<table border=\"1\" class=\"dataframe\">\n  <thead>\n    <tr style=\"text-align: right;\">\n      <th></th>\n      <th>a</th>\n      <th>c</th>\n    </tr>\n    <tr>\n      <th>b</th>\n      <th></th>\n      <th></th>\n    </tr>\n  </thead>\n  <tbody>\n    <tr>\n      <th>1.0</th>\n      <td>2</td>\n      <td>3</td>\n    </tr>\n    <tr>\n      <th>2.0</th>\n      <td>2</td>\n      <td>5</td>\n    </tr>\n  </tbody>\n</table>\n</div>"
     },
     "execution_count": 72,
     "metadata": {},
     "output_type": "execute_result"
    }
   ],
   "source": [
    "l = [[1, 2, 3], [1, None, 4], [2, 1, 3], [1, 2, 2]]\n",
    "df = pd.DataFrame(l, columns=[\"a\", \"b\", \"c\"])\n",
    "print(df.head())\n",
    "df.groupby('b').sum()\n",
    "\n"
   ],
   "metadata": {
    "collapsed": false,
    "ExecuteTime": {
     "end_time": "2023-11-30T03:08:48.841330Z",
     "start_time": "2023-11-30T03:08:48.820455Z"
    }
   },
   "id": "ff20a3994c8be66d"
  },
  {
   "cell_type": "code",
   "execution_count": 73,
   "outputs": [
    {
     "data": {
      "text/plain": "     a  c\nb        \n1.0  2  3\n2.0  2  5\nNaN  1  4",
      "text/html": "<div>\n<style scoped>\n    .dataframe tbody tr th:only-of-type {\n        vertical-align: middle;\n    }\n\n    .dataframe tbody tr th {\n        vertical-align: top;\n    }\n\n    .dataframe thead th {\n        text-align: right;\n    }\n</style>\n<table border=\"1\" class=\"dataframe\">\n  <thead>\n    <tr style=\"text-align: right;\">\n      <th></th>\n      <th>a</th>\n      <th>c</th>\n    </tr>\n    <tr>\n      <th>b</th>\n      <th></th>\n      <th></th>\n    </tr>\n  </thead>\n  <tbody>\n    <tr>\n      <th>1.0</th>\n      <td>2</td>\n      <td>3</td>\n    </tr>\n    <tr>\n      <th>2.0</th>\n      <td>2</td>\n      <td>5</td>\n    </tr>\n    <tr>\n      <th>NaN</th>\n      <td>1</td>\n      <td>4</td>\n    </tr>\n  </tbody>\n</table>\n</div>"
     },
     "execution_count": 73,
     "metadata": {},
     "output_type": "execute_result"
    }
   ],
   "source": [
    "df.groupby(by=[\"b\"], dropna=False).sum()\n",
    "\n"
   ],
   "metadata": {
    "collapsed": false,
    "ExecuteTime": {
     "end_time": "2023-11-30T03:08:48.841931Z",
     "start_time": "2023-11-30T03:08:48.825633Z"
    }
   },
   "id": "6e34ec4702d2bd75"
  },
  {
   "cell_type": "code",
   "execution_count": null,
   "outputs": [],
   "source": [
    "index = pd.MultiIndex.from_product([[\"A\", \"B\"], [\"a\", \"b\"]])\n",
    "df = pd.DataFrame(np.random.randn(4), index=index, columns=[\"col\"])\n",
    "print(df.head())\n",
    "\n",
    "\n",
    "idx = pd.Index([1, 2, 3])\n",
    "df = pd.DataFrame(np.random.randn(3, 3), index=idx)\n",
    "print(df.head())\n"
   ],
   "metadata": {
    "collapsed": false
   },
   "id": "22effbd055017a7e"
  },
  {
   "cell_type": "code",
   "execution_count": null,
   "outputs": [],
   "source": [],
   "metadata": {
    "collapsed": false
   },
   "id": "be8a0f309b635d14"
  }
 ],
 "metadata": {
  "kernelspec": {
   "display_name": "Python 3",
   "language": "python",
   "name": "python3"
  },
  "language_info": {
   "codemirror_mode": {
    "name": "ipython",
    "version": 2
   },
   "file_extension": ".py",
   "mimetype": "text/x-python",
   "name": "python",
   "nbconvert_exporter": "python",
   "pygments_lexer": "ipython2",
   "version": "2.7.6"
  }
 },
 "nbformat": 4,
 "nbformat_minor": 5
}
